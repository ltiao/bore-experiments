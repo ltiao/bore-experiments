{
 "cells": [
  {
   "cell_type": "code",
   "execution_count": 4,
   "metadata": {},
   "outputs": [],
   "source": [
    "import matplotlib.pyplot as plt\n",
    "import seaborn as sns\n",
    "\n",
    "from bore.benchmarks.racing.cars import F110\n",
    "from bore.benchmarks.racing.tracks import UCB\n",
    "\n",
    "from bore.benchmarks.racing.line import randomTrajectory, calcMinimumTime"
   ]
  },
  {
   "cell_type": "code",
   "execution_count": 7,
   "metadata": {},
   "outputs": [],
   "source": [
    "N_WAYPOINTS = 100           # resampled waypoints\n",
    "SCALE = 0.95                # shrinking factor for track width\n",
    "LASTIDX = 0                 # fixed node at the end DO NOT CHANGE\n",
    "\n",
    "# define indices for the nodes\n",
    "NODES = [10, 32, 44, 67, 83, 100, 113, 127, 144, 160, 175, 191]\n",
    "\n",
    "#####################################################################\n",
    "# track specific data\n",
    "\n",
    "params = F110()\n",
    "track = UCB()\n",
    "\n",
    "track_width = track.track_width*SCALE\n",
    "theta = track.theta_track[NODES]\n",
    "N_DIMS = len(NODES)\n",
    "n_waypoints = N_DIMS\n",
    "\n",
    "rand_traj = randomTrajectory(track=track, n_waypoints=n_waypoints)"
   ]
  },
  {
   "cell_type": "code",
   "execution_count": 8,
   "metadata": {},
   "outputs": [],
   "source": [
    "nodes = rand_traj.sample_nodes(scale=SCALE)\n",
    "\n",
    "wx, wy = rand_traj.calculate_xy(\n",
    "    width=nodes,\n",
    "    last_index=NODES[LASTIDX],\n",
    "    theta=theta)\n",
    "x, y = rand_traj.fit_cubic_splines(wx=wx, wy=wy, n_samples=N_WAYPOINTS)\n",
    "\n",
    "lap_time = calcMinimumTime(x, y, **params)"
   ]
  },
  {
   "cell_type": "code",
   "execution_count": 9,
   "metadata": {},
   "outputs": [
    {
     "data": {
      "image/png": "[encoded data removed]",
      "text/plain": [
       "<Figure size 432x288 with 1 Axes>"
      ]
     },
     "metadata": {
      "needs_background": "light"
     },
     "output_type": "display_data"
    }
   ],
   "source": [
    "fig, ax = plt.subplots()\n",
    "\n",
    "ax.set_title(f\"Lap time {lap_time:.2f}\")\n",
    "\n",
    "ax.scatter(wx, wy)\n",
    "ax.plot(x, y)\n",
    "\n",
    "plt.plot(wx[0], wy[0], 'o', label='start')\n",
    "plt.plot(wx[-1], wy[-1], 'o', label='finish')\n",
    "\n",
    "plt.show()"
   ]
  },
  {
   "cell_type": "code",
   "execution_count": 10,
   "metadata": {},
   "outputs": [
    {
     "data": {
      "text/plain": [
       "5.720723966496629"
      ]
     },
     "execution_count": 10,
     "metadata": {},
     "output_type": "execute_result"
    }
   ],
   "source": [
    "lap_time"
   ]
  },
  {
   "cell_type": "code",
   "execution_count": null,
   "metadata": {},
   "outputs": [],
   "source": []
  }
 ],
 "metadata": {
  "kernelspec": {
   "display_name": "Python 3",
   "language": "python",
   "name": "python3"
  },
  "language_info": {
   "codemirror_mode": {
    "name": "ipython",
    "version": 3
   },
   "file_extension": ".py",
   "mimetype": "text/x-python",
   "name": "python",
   "nbconvert_exporter": "python",
   "pygments_lexer": "ipython3",
   "version": "3.6.9"
  }
 },
 "nbformat": 4,
 "nbformat_minor": 4
}
